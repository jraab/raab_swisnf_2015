{
 "metadata": {
  "name": "",
  "signature": "sha256:4f195edf39ecd9b3c7c272012b4ccf1b16771339b82fbae5a5a7dbf1367a55c0"
 },
 "nbformat": 3,
 "nbformat_minor": 0,
 "worksheets": []
}